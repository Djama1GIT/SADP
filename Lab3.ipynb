{
 "cells": [
  {
   "cell_type": "markdown",
   "metadata": {
    "id": "0z3KlfKDn4_K"
   },
   "source": [
    "# Лабораторная работа 3. \n",
    "# Сетевые алгоритмы. Динамические алгоритмы поиска путей.\n"
   ]
  },
  {
   "cell_type": "markdown",
   "metadata": {
    "id": "96Gi_LEvmSVH"
   },
   "source": [
    "## Выполнил студент группы БВТ2102 Гаджиявов Джамал Тимурович\n",
    "***"
   ]
  },
  {
   "cell_type": "markdown",
   "metadata": {
    "id": "GjdIp8aToKIe"
   },
   "source": [
    "### Задание\n",
    "\n",
    "1.  Реализовать алгоритм поиска кратчайшего расстояния между двумя вершинами ориентированного взвешенного графа в соответствии с вариантом. \n",
    "\n",
    "2.  Предусмотреть задание графа в виде матрицы смежности/инцидентности, читаемой из файла, либо графически с помощью пользовательского интерфейса. \n",
    "\n",
    "3.  Разработать графический интерфейс пользователя с визуализацией графа и отображением кратчайшего расстояния между задаваемыми пользователем вершинами.\n",
    "\n",
    "4. По результатам работы проанализировать временную сложность работы заданного алгоритма в зависимости от числа узлов и ребер графа.\n",
    "Данные представить в виде таблицы.\n",
    "\n"
   ]
  },
  {
   "cell_type": "markdown",
   "metadata": {
    "id": "Wggfn8l7nG72"
   },
   "source": [
    "### Выполнение:"
   ]
  },
  {
   "cell_type": "code",
   "execution_count": 1,
   "metadata": {},
   "outputs": [],
   "source": [
    "graph = [[0, 4, 0, 0, 0, 0],\n",
    "         [4, 0, 8, 0, 0, 0],\n",
    "         [0, 8, 0, 7, 0, 4],\n",
    "         [0, 0, 7, 0, 9, 14],\n",
    "         [0, 0, 0, 9, 0, 10],\n",
    "         [0, 0, 4, 14, 10, 0]]"
   ]
  },
  {
   "cell_type": "code",
   "execution_count": 2,
   "metadata": {},
   "outputs": [],
   "source": [
    "# Дейкстра O(m*n)\n",
    "# Алгоритм Дейкстры использует жадный подход для нахождения кратчайшего пути. \n",
    "# Он поддерживает список S вершин, для которых уже найден кратчайший путь, \n",
    "# и список Q вершин, для которых путь еще не найден. На каждом шаге алгоритма \n",
    "# мы выбираем из списка Q вершину u с наименьшим значением расстояния d[u], \n",
    "# добавляем ее в список S, и обновляем расстояния до всех ее соседей v таким \n",
    "# образом: если d[u] + w(u, v) < d[v], то мы обновляем d[v] = d[u] + w(u, v).\n",
    "import sys\n",
    "\n",
    "\n",
    "def _dijkstra(graph, start):\n",
    "    n = len(graph)\n",
    "    dist = {i: {'dist': sys.maxsize, 'prev': None} for i in range(n)}\n",
    "    dist[start]['dist'] = 0\n",
    "    visited = set([start])\n",
    "\n",
    "    while len(visited) != n:\n",
    "        min_dist = sys.maxsize\n",
    "        next_node = None\n",
    "\n",
    "        for node in visited:\n",
    "            for neighbor, weight in enumerate(graph[node]):\n",
    "                if neighbor not in visited and weight > 0:\n",
    "                    new_dist = dist[node]['dist'] + weight\n",
    "                    if new_dist < dist[neighbor]['dist']:\n",
    "                        dist[neighbor]['dist'] = new_dist\n",
    "                        dist[neighbor]['prev'] = node\n",
    "                        if new_dist < min_dist:\n",
    "                            min_dist = new_dist\n",
    "                            next_node = neighbor\n",
    "\n",
    "        visited.add(next_node)\n",
    "\n",
    "    return dist\n",
    "\n",
    "\n",
    "def get_path(end, distances):\n",
    "    path = [end]\n",
    "    prev = distances[end]['prev']\n",
    "    while prev is not None:\n",
    "        path.append(prev)\n",
    "        prev = distances[prev]['prev']\n",
    "    return path[::-1]\n",
    "\n",
    "\n",
    "def dijkstra(graph, start, end):\n",
    "    distances = _dijkstra(graph, start)\n",
    "    path = get_path(end, distances)\n",
    "    dist = distances[end][\"dist\"]\n",
    "    return path, dist"
   ]
  },
  {
   "cell_type": "code",
   "execution_count": 3,
   "metadata": {},
   "outputs": [],
   "source": [
    "# флойда йортшильда O(n^3)\n",
    "# Алгоритм Флойда-Ротшильда использует динамическое программирование для нахождения кратчайших путей.\n",
    "# Он поддерживает матрицу расстояний D размера n x n, где D[i][j] - длина кратчайшего пути из вершины i в вершину j.\n",
    "\n",
    "def floyd_warshall(graph):\n",
    "    n = len(graph)\n",
    "    dist = [[float('inf') for _ in range(n)] for _ in range(n)]\n",
    "\n",
    "    for i in range(n):\n",
    "        for j in range(n):\n",
    "            if i == j:\n",
    "                dist[i][j] = 0\n",
    "            elif graph[i][j] != 0:\n",
    "                dist[i][j] = graph[i][j]\n",
    "\n",
    "    for k in range(n):\n",
    "        for i in range(n):\n",
    "            for j in range(n):\n",
    "                if dist[i][j] > dist[i][k] + dist[k][j]:\n",
    "                    dist[i][j] = dist[i][k] + dist[k][j]\n",
    "\n",
    "    return dist"
   ]
  },
  {
   "cell_type": "code",
   "execution_count": 4,
   "metadata": {},
   "outputs": [],
   "source": [
    "# Беллмана O(n*m)\n",
    "# Алгоритм Форда-Беллмана – алгоритм нахождения кратчайшего\n",
    "# пути во взвешенном графе с отрицательными ребрами. \n",
    "# Он работает с графом, содержащим рёбра с отрицательными весами, \n",
    "# но не должен содержать циклы отрицательного веса, иначе алгоритм не сможет дать правильный результат.\n",
    "# \n",
    "# Алгоритм Форда-Беллмана можно описать следующим образом:\n",
    "# \n",
    "# 1. Создать массив расстояний dist размером N и заполнить его значениями, \n",
    "# соответствующими расстояниям между вершиной s и всеми остальными вершинами графа. \n",
    "# Для вершины s расстояние равно 0, для всех остальных вершин – бесконечности.\n",
    "# \n",
    "# 2. Повторить N-1 раз следующие действия:\n",
    "# \n",
    "#    2.1. Проитерироваться по всем ребрам графа.\n",
    "# \n",
    "#    2.2. Если расстояние до вершины v через вершину u меньше текущего расстояния до v, то обновить значение dist[v].\n",
    "# \n",
    "# 3. Проверить наличие отрицательных циклов в графе.\n",
    "a = set()\n",
    "\n",
    "def bellman_ford(graph, s):\n",
    "    n = len(graph)\n",
    "    dist = [float('inf') for _ in range(n)]\n",
    "    dist[s] = 0\n",
    "\n",
    "    for _ in range(n - 1):\n",
    "        for u in range(n):\n",
    "            for v, w in graph[u]:\n",
    "                if dist[u] + w < dist[v]:\n",
    "                    \n",
    "                    dist[v] = dist[u] + w\n",
    "\n",
    "    for u in range(n):\n",
    "        for v, w in graph[u]:\n",
    "            if dist[u] + w < dist[v]:\n",
    "                return None, \"Negative cycle detected\"\n",
    "\n",
    "    return dist, None\n",
    "\n",
    "\n",
    "def adjacency_list(adj_matrix):\n",
    "    adj_list = [[] for _ in range(len(adj_matrix))]\n",
    "    for i in range(len(adj_matrix)):\n",
    "        for j in range(len(adj_matrix)):\n",
    "            if adj_matrix[i][j] != 0:\n",
    "                adj_list[i].append((j, adj_matrix[i][j]))\n",
    "    return adj_list"
   ]
  },
  {
   "cell_type": "markdown",
   "metadata": {
    "id": "diOb-K7LnO5a"
   },
   "source": [
    "### Вывод"
   ]
  },
  {
   "cell_type": "code",
   "execution_count": 5,
   "metadata": {},
   "outputs": [
    {
     "name": "stdout",
     "output_type": "stream",
     "text": [
      "16\n",
      "16\n",
      "16\n"
     ]
    }
   ],
   "source": [
    "print((dk := dijkstra(graph, 0, 5))[1])\n",
    "print(floyd_warshall(graph)[0][-1])\n",
    "print(bellman_ford(adjacency_list(graph), 0)[0][-1])"
   ]
  },
  {
   "cell_type": "code",
   "execution_count": 6,
   "metadata": {},
   "outputs": [
    {
     "name": "stdout",
     "output_type": "stream",
     "text": [
      "0 > 1 > 2 > 5\n"
     ]
    },
    {
     "data": {
      "image/png": "[encoded data removed]",
      "text/plain": [
       "<Figure size 640x480 with 1 Axes>"
      ]
     },
     "metadata": {},
     "output_type": "display_data"
    }
   ],
   "source": [
    "from collections import defaultdict\n",
    "import networkx as nx\n",
    "import matplotlib.pyplot as plt\n",
    "import timeit\n",
    "import pandas as pd\n",
    "\n",
    "color_map = []\n",
    "G = nx.DiGraph()\n",
    "\n",
    "result = []\n",
    "\n",
    "for u in range(len(graph)):\n",
    "    for v in range(len(graph)):\n",
    "      if result != 0:\n",
    "        result.append((u, v, graph[u][v]))\n",
    "\n",
    "for i in result:\n",
    "    u,v,w = i\n",
    "    if w != 0:\n",
    "        G.add_edge(u,v, weight = w)\n",
    "    \n",
    "for node in G:\n",
    "    if node in dk[0]:\n",
    "        color_map.append('green')\n",
    "    else:\n",
    "        color_map.append('red')\n",
    "pos=nx.circular_layout(G)\n",
    "print(*dk[0], sep = \" > \")\n",
    "nx.draw(G, pos, node_color=color_map, with_labels=True)\n",
    "edge_weight = nx.get_edge_attributes(G,'weight')\n",
    "nx.draw_networkx_edge_labels(G, pos, edge_labels = edge_weight)\n",
    "plt.show()"
   ]
  },
  {
   "cell_type": "code",
   "execution_count": 7,
   "metadata": {},
   "outputs": [
    {
     "data": {
      "text/html": [
       "<div>\n",
       "<style scoped>\n",
       "    .dataframe tbody tr th:only-of-type {\n",
       "        vertical-align: middle;\n",
       "    }\n",
       "\n",
       "    .dataframe tbody tr th {\n",
       "        vertical-align: top;\n",
       "    }\n",
       "\n",
       "    .dataframe thead th {\n",
       "        text-align: right;\n",
       "    }\n",
       "</style>\n",
       "<table border=\"1\" class=\"dataframe\">\n",
       "  <thead>\n",
       "    <tr style=\"text-align: right;\">\n",
       "      <th></th>\n",
       "      <th>Name</th>\n",
       "      <th>O(algos)</th>\n",
       "    </tr>\n",
       "  </thead>\n",
       "  <tbody>\n",
       "    <tr>\n",
       "      <th>0</th>\n",
       "      <td>Дейкстры</td>\n",
       "      <td>O(m*n)</td>\n",
       "    </tr>\n",
       "    <tr>\n",
       "      <th>1</th>\n",
       "      <td>Флойда-Уоршелла</td>\n",
       "      <td>O(n^3)</td>\n",
       "    </tr>\n",
       "    <tr>\n",
       "      <th>2</th>\n",
       "      <td>Беллмана</td>\n",
       "      <td>O(n*m)</td>\n",
       "    </tr>\n",
       "  </tbody>\n",
       "</table>\n",
       "</div>"
      ],
      "text/plain": [
       "              Name O(algos)\n",
       "0         Дейкстры   O(m*n)\n",
       "1  Флойда-Уоршелла   O(n^3)\n",
       "2         Беллмана   O(n*m)"
      ]
     },
     "execution_count": 7,
     "metadata": {},
     "output_type": "execute_result"
    }
   ],
   "source": [
    "table_data = [[\"Дейкстры\", \"O(m*n)\"], [\"Флойда-Уоршелла\", \"O(n^3)\"], [\"Беллмана\", \"O(n*m)\"]]\n",
    "pd.DataFrame(table_data, columns=[\"Name\", \"O(algos)\"])"
   ]
  },
  {
   "cell_type": "code",
   "execution_count": null,
   "metadata": {},
   "outputs": [],
   "source": []
  }
 ],
 "metadata": {
  "colab": {
   "provenance": []
  },
  "kernelspec": {
   "display_name": "Python 3 (ipykernel)",
   "language": "python",
   "name": "python3"
  },
  "language_info": {
   "codemirror_mode": {
    "name": "ipython",
    "version": 3
   },
   "file_extension": ".py",
   "mimetype": "text/x-python",
   "name": "python",
   "nbconvert_exporter": "python",
   "pygments_lexer": "ipython3",
   "version": "3.10.0"
  }
 },
 "nbformat": 4,
 "nbformat_minor": 1
}
