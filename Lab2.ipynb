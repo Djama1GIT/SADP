{
 "cells": [
  {
   "cell_type": "markdown",
   "id": "fifteen-sailing",
   "metadata": {
    "id": "fifteen-sailing"
   },
   "source": [
    "# Лабораторная работа №4(2)\n",
    "## Выполнил студент группы БВТ2102 Гаджиявов Джамал"
   ]
  },
  {
   "cell_type": "markdown",
   "id": "arctic-stocks",
   "metadata": {
    "id": "arctic-stocks"
   },
   "source": [
    "Реализовать следующие структуры данных:\n",
    "  \n",
    "● <b> Стек (stack): </b>  \n",
    "Операции для стека: \n",
    "<i> инициализация, проверка на пустоту, добавление нового элемента в начало, извлечение элемента из начала;  </i>  \n",
    "  \n",
    "● <b> Дек (двусторонняя очередь, deque):  </b>  \n",
    "Операции для дека: \n",
    "<i> инициализация, проверка на пустоту, добавление нового элемента в начало, добавление нового элемента в конец, извлечение элемента из начала, извлечение элемента из конца. </i>  \n",
    "  \n",
    "<i> Разработать программу обработки данных, содержащихся в заранее подготовленном txt-файле, в соответствии с заданиями, применив указанную в задании структуру данных. Результат работы программы вывести на экран и сохранить в отдельном txt-файле. </i>"
   ]
  },
  {
   "cell_type": "code",
   "execution_count": 1,
   "id": "596b4d56",
   "metadata": {},
   "outputs": [],
   "source": [
    "class Stack:\n",
    "    def __init__(self, stack: list[int | str]):\n",
    "        self.__stack: list[int | str] = stack\n",
    "\n",
    "    def empty(self):\n",
    "        return False if self.__stack else True\n",
    "\n",
    "    def push(self, elem: int | str):\n",
    "        self.__stack.append(elem)\n",
    "\n",
    "    def pop(self):\n",
    "        if self.empty():\n",
    "            raise \"Ты чё?\"\n",
    "        else:\n",
    "            return self.__stack.pop()\n",
    "\n",
    "    def __str__(self):\n",
    "        return str(self.__stack)\n",
    "\n",
    "    def __getitem__(self, item: int):\n",
    "        return self.__stack[item]\n",
    "\n",
    "    def __len__(self):\n",
    "        return len(self.__stack)\n",
    "\n",
    "\n",
    "class Deque:\n",
    "    def __init__(self, deq: list[int | str]):\n",
    "        self.__deq: list[int | str] = deq\n",
    "\n",
    "    def empty(self):\n",
    "        return False if self.__deq else True\n",
    "\n",
    "    def push_front(self, elem: int | str):\n",
    "        self.__deq = [elem] + self.__deq\n",
    "\n",
    "    def push_back(self, elem: int | str):\n",
    "        self.__deq.append(elem)\n",
    "\n",
    "    def pop_front(self):\n",
    "        if self.empty():\n",
    "            raise \"Ты чё?\"\n",
    "        else:\n",
    "            front = self.__deq[0]\n",
    "            self.__deq = self.__deq[1:]\n",
    "            return front\n",
    "\n",
    "    def pop_back(self):\n",
    "        if self.empty():\n",
    "            raise \"Ты чё?\"\n",
    "        else:\n",
    "            return self.__deq.pop()\n",
    "\n",
    "    def __str__(self):\n",
    "        return str(self.__deq)\n",
    "\n",
    "    def __getitem__(self, item):\n",
    "        return self.__deq[item]\n",
    "\n",
    "    def __len__(self):\n",
    "        return len(self.__deq)"
   ]
  },
  {
   "cell_type": "markdown",
   "id": "5d7edb08",
   "metadata": {
    "id": "5d7edb08",
    "scrolled": true
   },
   "source": [
    "### Задание №1\n",
    "Отсортировать строки файла, содержащие названия книг, в алфавитном порядке с использованием двух деков."
   ]
  },
  {
   "cell_type": "code",
   "execution_count": 2,
   "id": "17702ade",
   "metadata": {
    "id": "17702ade"
   },
   "outputs": [
    {
     "name": "stdout",
     "output_type": "stream",
     "text": [
      "1. «Интроверты» Сьюзан Кейн\n",
      "\n",
      "10. «Хватит быть славным парнем» Кипа Торна\n",
      "\n",
      "11. «Сила воли» Келли Макгонигал\n",
      "\n",
      "12. «Разумный инвестор» Бенджамина Грэма\n",
      "\n",
      "13. «Анализ ценных бумаг» Бэнджамина Грэма и Дэвида Додда\n",
      "\n",
      "14. «Инвестиционная оценка. Инструменты и методы оценки любых активов» Асвата Дамодарана\n",
      "\n",
      "15. «Обыкновенные акции и необыкновенные доходы» Филиппа Фишера\n",
      "\n",
      "16. «Оценка компаний. Анализ и прогнозирование с использованием отчетности по МСФО» Ника Антилл и Кеннета Ли\n",
      "\n",
      "17. «Таинственный остров» Жюль Верна\n",
      "\n",
      "18. «Артур и минипуты» Люка Бессона\n",
      "\n",
      "19. «Как заводить друзей и оказывать влияние на друзей» Дейла Карнеги\n",
      "\n",
      "2. «Искусство управлять людьми» Виктора Шейнова\n",
      "\n",
      "20. «Тело ведёт счёт» Бессела Ван Дер Колка тропарево\n",
      "\n",
      "21. «Язык телодвижений» Аллана Пиз\n",
      "\n",
      "22. «Жутко громко и запредельно близко» Джонатана Сафран Фоера\n",
      "\n",
      "23. «Горе от ума» Грибоедова\n",
      "\n",
      "24. «Маленький принц» Антуана де Сент-Экзюпери\n",
      "\n",
      "3. «Шерлок Холмс» Артура Конан Дойла\n",
      "\n",
      "4. «Гамлет» Уильяма Шекспира\n",
      "\n",
      "5. «Опасные личности» Джо Наварро\n",
      "\n",
      "6. «Спотыкаясь о счастье» Дэниела Гилберта\n",
      "\n",
      "7. «Эмоциональный интеллект» Дэниела Гоулмана\n",
      "\n",
      "8. «Психология влияния» Роберта Чалдини\n",
      "\n",
      "9. «Гипотеза счастья» Джонатана Хайдта\n",
      "\n"
     ]
    }
   ],
   "source": [
    "with open('books.txt','r', encoding='utf-8') as books:\n",
    "    q1 = Deque([])\n",
    "    q2 = Deque([])\n",
    "    for book in books:\n",
    "        q1.push_back(book)\n",
    "    while not q1.empty():\n",
    "        x = q1.pop_back()\n",
    "        while not q2.empty() and q2[-1] > x:\n",
    "            q1.push_front(q2.pop_back())\n",
    "        q2.push_back(x)\n",
    "    while not q2.empty():\n",
    "        print(q2.pop_front())"
   ]
  },
  {
   "cell_type": "markdown",
   "id": "49fbd2a0",
   "metadata": {
    "id": "49fbd2a0"
   },
   "source": [
    "### Задание №2\n",
    "Дек содержит последовательность символов для шифровки сообщений. Дан текстовый файл, содержащий зашифрованное сообщение. Пользуясь деком, расшифровать текст. \n",
    "Известно, что при шифровке каждый символ сообщения заменялся следующим за ним в деке по часовой стрелке через один."
   ]
  },
  {
   "cell_type": "code",
   "execution_count": 3,
   "id": "81cab7a8",
   "metadata": {
    "id": "81cab7a8"
   },
   "outputs": [
    {
     "name": "stdout",
     "output_type": "stream",
     "text": [
      "а мявмя лгбт\n",
      "я люблю квас\n"
     ]
    }
   ],
   "source": [
    "alphabet = list('абвгдеёжзийклмнопрстуфхцчшщъыьэюя')\n",
    "key = Deque(alphabet)\n",
    "\n",
    "def encode(sym):\n",
    "    for i in range(len(key)):\n",
    "        back = key.pop_front()\n",
    "        if back == sym:\n",
    "            key.push_back(back)\n",
    "            val = key.pop_front()\n",
    "            key.push_back(val)\n",
    "            return val\n",
    "        key.push_back(back)\n",
    "\n",
    "def decode(sym):\n",
    "    for i in range(len(key)):\n",
    "        back = key.pop_back()\n",
    "        if back == sym:\n",
    "            key.push_front(back)\n",
    "            val = key.pop_back()\n",
    "            key.push_front(val)\n",
    "            return val\n",
    "        key.push_front(back)\n",
    "\n",
    "text = 'я люблю квас'.lower()\n",
    "\n",
    "encoded = [encoded_letter if (encoded_letter := encode(letter)) else letter for letter in text]\n",
    "\n",
    "print(\"\".join(encoded))\n",
    "\n",
    "decoded = [decoded_letter if (decoded_letter := decode(letter)) else letter for letter in encoded]\n",
    "\n",
    "print(\"\".join(decoded))"
   ]
  },
  {
   "cell_type": "markdown",
   "id": "c0894f47",
   "metadata": {
    "id": "c0894f47"
   },
   "source": [
    "### Задание №3\n",
    "Даны три стержня и n дисков различного размера. Диски можно надевать на стержни, образуя из них башни. Перенести n дисков со стержня А на стержень С, сохранив их первоначальный порядок. При переносе дисков необходимо соблюдать следующие правила:\n",
    "- на каждом шаге со стержня на стержень переносить только один диск;\n",
    "- диск нельзя помещать на диск меньшего размера;\n",
    "- для промежуточного хранения можно использовать стержень В.\n",
    "Реализовать алгоритм, используя три стека вместо стержней А, В, С. Информация о дисках хранится в исходном файле."
   ]
  },
  {
   "cell_type": "code",
   "execution_count": 4,
   "id": "9e91a9d4",
   "metadata": {
    "id": "9e91a9d4"
   },
   "outputs": [
    {
     "name": "stdout",
     "output_type": "stream",
     "text": [
      "1\n",
      "2\n",
      "3\n",
      "4\n",
      "5\n",
      "6\n"
     ]
    }
   ],
   "source": [
    "A, B, C = Stack(list(range(disks := 6, 0, -1))), Stack([]), Stack([])\n",
    "\n",
    "def move(a, b):\n",
    "    if len(a) == 0 and len(b) > 0:\n",
    "        a.push(b.pop())\n",
    "    elif len(a) > 0 and len(b) == 0:\n",
    "        b.push(a.pop())\n",
    "    elif a[-1] > b[-1]:\n",
    "        a.push(b.pop())\n",
    "    else:\n",
    "        b.push(a.pop())\n",
    "\n",
    "while len(C) != disks:\n",
    "        move(A, (B,C)[disks % 2])\n",
    "        move(A, (C,B)[disks % 2])\n",
    "        move(B, C)\n",
    "\n",
    "while not C.empty():\n",
    "    print(C.pop())"
   ]
  },
  {
   "cell_type": "markdown",
   "id": "e5b0be17",
   "metadata": {
    "id": "e5b0be17"
   },
   "source": [
    "### Задание №4\n",
    "Дан текстовый файл с программой на алгоритмическом языке. За один просмотр файла проверить баланс круглых скобок в тексте, используя стек."
   ]
  },
  {
   "cell_type": "code",
   "execution_count": 5,
   "id": "5b1df60a",
   "metadata": {
    "id": "5b1df60a"
   },
   "outputs": [
    {
     "name": "stdout",
     "output_type": "stream",
     "text": [
      "True\n",
      "False\n"
     ]
    }
   ],
   "source": [
    "def check(string):\n",
    "    st = Stack([])\n",
    "    for i in string:\n",
    "        if i == '(':\n",
    "            st.push(i)\n",
    "        elif i == ')':\n",
    "            if st.empty():\n",
    "                return False\n",
    "            st.pop()\n",
    "    return st.empty()\n",
    "\n",
    "\n",
    "print(check('((()()()()()()())()()()((((())))))'))\n",
    "print(check(')()()((()()()()()()((((()))(()()())))))'))"
   ]
  },
  {
   "cell_type": "markdown",
   "id": "c44cdd6b",
   "metadata": {
    "id": "c44cdd6b"
   },
   "source": [
    "### Задание №5\n",
    "Дан текстовый файл с программой на алгоритмическом языке. За один просмотр файла проверить баланс квадратных скобок в тексте, используя дек."
   ]
  },
  {
   "cell_type": "code",
   "execution_count": 6,
   "id": "36b8f400",
   "metadata": {
    "id": "36b8f400"
   },
   "outputs": [
    {
     "name": "stdout",
     "output_type": "stream",
     "text": [
      "True\n",
      "False\n"
     ]
    }
   ],
   "source": [
    "def check_sq(string):\n",
    "    st = Stack([])\n",
    "    for i in string:\n",
    "        if i == '[':\n",
    "            st.push(i)\n",
    "        elif i == ']':\n",
    "            if st.empty():\n",
    "                return False\n",
    "            st.pop()\n",
    "    return st.empty()\n",
    "\n",
    "\n",
    "print(check_sq('[[[[[[[[[[[[[]]]]]]]]][[[]]][[[]]][[]]]]]]'))\n",
    "print(check_sq('[[[[][][][][][][]]]]]'))"
   ]
  },
  {
   "cell_type": "markdown",
   "id": "59d13dc7",
   "metadata": {
    "id": "59d13dc7"
   },
   "source": [
    "### Задание №6\n",
    "Дан файл из символов. Используя стек, за один просмотр файла напечатать сначала все цифры, затем все буквы, и, наконец, все остальные символы, сохраняя исходный порядок в каждой группе символов."
   ]
  },
  {
   "cell_type": "code",
   "execution_count": 7,
   "id": "297e36c2",
   "metadata": {
    "id": "297e36c2"
   },
   "outputs": [
    {
     "name": "stdout",
     "output_type": "stream",
     "text": [
      "01234АААянеуспеваюсдеклатьлабу!@#$%^&*       %:*!!!!!!!!!!\n"
     ]
    }
   ],
   "source": [
    "text = '!@#$%^&* ААА я не успеваю 01234 сдеклать лабу%:*!!!!!!!!!!'\n",
    "letters = Stack([])\n",
    "digits = Stack([])\n",
    "others = Stack([])\n",
    "for c in reversed(text):\n",
    "    if c.isalpha():\n",
    "        letters.push(c)\n",
    "    elif c.isdigit():\n",
    "        digits.push(c)\n",
    "    else:\n",
    "        others.push(c)\n",
    "text = ''\n",
    "while not digits.empty():\n",
    "    text += digits.pop()\n",
    "while not letters.empty():\n",
    "    text += letters.pop()\n",
    "while not others.empty():\n",
    "    text += others.pop()\n",
    "print(text)"
   ]
  },
  {
   "cell_type": "markdown",
   "id": "973f68bd",
   "metadata": {
    "id": "973f68bd"
   },
   "source": [
    "### Задание №7\n",
    "Дан файл из целых чисел. Используя дек, за один просмотр файла напечатать сначала все отрицательные числа, затем все положительные числа, сохраняя исходный порядок в каждой группе."
   ]
  },
  {
   "cell_type": "code",
   "execution_count": 8,
   "id": "c56fad66",
   "metadata": {
    "id": "c56fad66"
   },
   "outputs": [
    {
     "name": "stdout",
     "output_type": "stream",
     "text": [
      "[130, -140, -185, 182, -57, -72, -83, -126, 180, -145, 149, 182, 82, -153, 105, 19, -181, -182, -150, -86, -78, 61, 111, -184]\n",
      "-140 -185 -57 -72 -83 -126 -145 -153 -181 -182 -150 -86 -78 -184 130 182 180 149 182 82 105 19 61 111\n"
     ]
    }
   ],
   "source": [
    "import random\n",
    "random.seed(42)\n",
    "numbers = [random.randint(-197, 233) for i in range(24)]\n",
    "print(numbers)\n",
    "deque = Deque([])\n",
    "deque2 = Deque([])\n",
    "for n in numbers:\n",
    "    deque.push_back(n) if n < 0 else deque2.push_back(n)\n",
    "print(*[deque.pop_front() for i in range(len(deque))], *[deque2.pop_front() for i in range(len(deque2))])"
   ]
  },
  {
   "cell_type": "markdown",
   "id": "b9228191",
   "metadata": {
    "id": "b9228191"
   },
   "source": [
    "### Задание №8\n",
    "Дан текстовый файл. Используя стек, сформировать новый текстовый файл, содержащий строки исходного файла, записанные в обратном порядке: первая строка становится последней, вторая – предпоследней и т.д."
   ]
  },
  {
   "cell_type": "code",
   "execution_count": 9,
   "id": "981fbdfe",
   "metadata": {
    "id": "981fbdfe"
   },
   "outputs": [
    {
     "name": "stdout",
     "output_type": "stream",
     "text": [
      "24. «Маленький принц» Антуана де Сент-Экзюпери\n",
      "\n",
      "23. «Горе от ума» Грибоедова\n",
      "\n",
      "22. «Жутко громко и запредельно близко» Джонатана Сафран Фоера\n",
      "\n",
      "21. «Язык телодвижений» Аллана Пиз\n",
      "\n",
      "20. «Тело ведёт счёт» Бессела Ван Дер Колка тропарево\n",
      "\n",
      "19. «Как заводить друзей и оказывать влияние на друзей» Дейла Карнеги\n",
      "\n",
      "18. «Артур и минипуты» Люка Бессона\n",
      "\n",
      "17. «Таинственный остров» Жюль Верна\n",
      "\n",
      "16. «Оценка компаний. Анализ и прогнозирование с использованием отчетности по МСФО» Ника Антилл и Кеннета Ли\n",
      "\n",
      "15. «Обыкновенные акции и необыкновенные доходы» Филиппа Фишера\n",
      "\n",
      "14. «Инвестиционная оценка. Инструменты и методы оценки любых активов» Асвата Дамодарана\n",
      "\n",
      "13. «Анализ ценных бумаг» Бэнджамина Грэма и Дэвида Додда\n",
      "\n",
      "12. «Разумный инвестор» Бенджамина Грэма\n",
      "\n",
      "11. «Сила воли» Келли Макгонигал\n",
      "\n",
      "10. «Хватит быть славным парнем» Кипа Торна\n",
      "\n",
      "9. «Гипотеза счастья» Джонатана Хайдта\n",
      "\n",
      "8. «Психология влияния» Роберта Чалдини\n",
      "\n",
      "7. «Эмоциональный интеллект» Дэниела Гоулмана\n",
      "\n",
      "6. «Спотыкаясь о счастье» Дэниела Гилберта\n",
      "\n",
      "5. «Опасные личности» Джо Наварро\n",
      "\n",
      "4. «Гамлет» Уильяма Шекспира\n",
      "\n",
      "3. «Шерлок Холмс» Артура Конан Дойла\n",
      "\n",
      "2. «Искусство управлять людьми» Виктора Шейнова\n",
      "\n",
      "1. «Интроверты» Сьюзан Кейн\n",
      "\n"
     ]
    }
   ],
   "source": [
    "with open('books.txt', 'r', encoding='utf-8') as books:\n",
    "    deq = Stack([])\n",
    "    for i in books:\n",
    "        deq.push(i)\n",
    "with open('books-out.txt', \"w\", encoding='utf-8') as books_out:\n",
    "        for i in range(len(deq)):\n",
    "            book = deq.pop()\n",
    "            books_out.write(book)\n",
    "            print(book)"
   ]
  },
  {
   "cell_type": "markdown",
   "id": "rental-jerusalem",
   "metadata": {
    "id": "rental-jerusalem"
   },
   "source": [
    "### Вывод\n"
   ]
  },
  {
   "cell_type": "markdown",
   "id": "0c2b8899",
   "metadata": {
    "id": "0c2b8899"
   },
   "source": [
    "Мы изучили структуры данных Stack и Deque(Двусторонняя очередь) и на практике увидели в каких ситуациях их стоит использовать."
   ]
  }
 ],
 "metadata": {
  "colab": {
   "provenance": []
  },
  "kernelspec": {
   "display_name": "Python 3 (ipykernel)",
   "language": "python",
   "name": "python3"
  },
  "language_info": {
   "codemirror_mode": {
    "name": "ipython",
    "version": 3
   },
   "file_extension": ".py",
   "mimetype": "text/x-python",
   "name": "python",
   "nbconvert_exporter": "python",
   "pygments_lexer": "ipython3",
   "version": "3.10.0"
  }
 },
 "nbformat": 4,
 "nbformat_minor": 5
}
